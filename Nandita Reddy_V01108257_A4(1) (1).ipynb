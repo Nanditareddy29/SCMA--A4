{
 "cells": [
  {
   "cell_type": "code",
   "execution_count": 1,
   "id": "a6bbcf6d",
   "metadata": {
    "scrolled": true
   },
   "outputs": [
    {
     "name": "stdout",
     "output_type": "stream",
     "text": [
      "Collecting factor_analyzer\n",
      "  Downloading factor_analyzer-0.5.1.tar.gz (42 kB)\n",
      "\u001b[2K     \u001b[90m━━━━━━━━━━━━━━━━━━━━━━━━━━━━━━━━━━━━━━━\u001b[0m \u001b[32m42.8/42.8 kB\u001b[0m \u001b[31m434.0 kB/s\u001b[0m eta \u001b[36m0:00:00\u001b[0ma \u001b[36m0:00:01\u001b[0m\n",
      "\u001b[?25h  Installing build dependencies ... \u001b[?25ldone\n",
      "\u001b[?25h  Getting requirements to build wheel ... \u001b[?25ldone\n",
      "\u001b[?25h  Preparing metadata (pyproject.toml) ... \u001b[?25ldone\n",
      "\u001b[?25hRequirement already satisfied: pandas in /Users/nanditareddy/anaconda3/lib/python3.11/site-packages (from factor_analyzer) (2.0.3)\n",
      "Requirement already satisfied: scipy in /Users/nanditareddy/anaconda3/lib/python3.11/site-packages (from factor_analyzer) (1.11.1)\n",
      "Requirement already satisfied: numpy in /Users/nanditareddy/anaconda3/lib/python3.11/site-packages (from factor_analyzer) (1.24.3)\n",
      "Requirement already satisfied: scikit-learn in /Users/nanditareddy/anaconda3/lib/python3.11/site-packages (from factor_analyzer) (1.3.0)\n",
      "Requirement already satisfied: python-dateutil>=2.8.2 in /Users/nanditareddy/anaconda3/lib/python3.11/site-packages (from pandas->factor_analyzer) (2.8.2)\n",
      "Requirement already satisfied: pytz>=2020.1 in /Users/nanditareddy/anaconda3/lib/python3.11/site-packages (from pandas->factor_analyzer) (2023.3.post1)\n",
      "Requirement already satisfied: tzdata>=2022.1 in /Users/nanditareddy/anaconda3/lib/python3.11/site-packages (from pandas->factor_analyzer) (2023.3)\n",
      "Requirement already satisfied: joblib>=1.1.1 in /Users/nanditareddy/anaconda3/lib/python3.11/site-packages (from scikit-learn->factor_analyzer) (1.2.0)\n",
      "Requirement already satisfied: threadpoolctl>=2.0.0 in /Users/nanditareddy/anaconda3/lib/python3.11/site-packages (from scikit-learn->factor_analyzer) (2.2.0)\n",
      "Requirement already satisfied: six>=1.5 in /Users/nanditareddy/anaconda3/lib/python3.11/site-packages (from python-dateutil>=2.8.2->pandas->factor_analyzer) (1.16.0)\n",
      "Building wheels for collected packages: factor_analyzer\n",
      "  Building wheel for factor_analyzer (pyproject.toml) ... \u001b[?25ldone\n",
      "\u001b[?25h  Created wheel for factor_analyzer: filename=factor_analyzer-0.5.1-py2.py3-none-any.whl size=42567 sha256=ac890e9fee758cb358f66038f9b8221c42fbd93f9fc1e558699297e4113b8503\n",
      "  Stored in directory: /Users/nanditareddy/Library/Caches/pip/wheels/fa/f7/53/a55a8a56668a6fe0199e0e02b6e0ae3007ec35cdf6e4c25df7\n",
      "Successfully built factor_analyzer\n",
      "Installing collected packages: factor_analyzer\n",
      "Successfully installed factor_analyzer-0.5.1\n"
     ]
    }
   ],
   "source": [
    "!pip install factor_analyzer"
   ]
  },
  {
   "cell_type": "code",
   "execution_count": 2,
   "id": "43a046d6",
   "metadata": {},
   "outputs": [],
   "source": [
    "import pandas as pd\n",
    "import numpy as np\n",
    "import factor_analyzer as fa\n",
    "import matplotlib.pyplot as plt\n",
    "from scipy.io import loadmat"
   ]
  },
  {
   "cell_type": "code",
   "execution_count": 3,
   "id": "285d97a4",
   "metadata": {},
   "outputs": [
    {
     "name": "stderr",
     "output_type": "stream",
     "text": [
      "/Users/nanditareddy/anaconda3/lib/python3.11/site-packages/_distutils_hack/__init__.py:33: UserWarning: Setuptools is replacing distutils.\n",
      "  warnings.warn(\"Setuptools is replacing distutils.\")\n"
     ]
    }
   ],
   "source": [
    "import importlib\n",
    "import pip\n",
    "\n",
    "def install_and_load(packages):\n",
    "    for package in packages:\n",
    "        try:\n",
    "            module = importlib.import_module(package)\n",
    "        except ImportError:\n",
    "            pip.main(['install', package])\n",
    "            module = importlib.import_module(package)"
   ]
  },
  {
   "cell_type": "code",
   "execution_count": 4,
   "id": "6b009c03",
   "metadata": {},
   "outputs": [],
   "source": [
    "# List of packages to install and load\n",
    "packages = [\"pandas\", \"numpy\", \"factor_analyzer\", \"matplotlib\", \"scipy\"]"
   ]
  },
  {
   "cell_type": "code",
   "execution_count": 5,
   "id": "1b9e8386",
   "metadata": {},
   "outputs": [],
   "source": [
    "# Call the function\n",
    "install_and_load(packages)"
   ]
  },
  {
   "cell_type": "code",
   "execution_count": 6,
   "id": "4d95551e",
   "metadata": {},
   "outputs": [],
   "source": [
    "# List of packages to install and load\n",
    "packages = [\"pandas\", \"numpy\", \"factor_analyzer\", \"matplotlib\", \"scipy\"]"
   ]
  },
  {
   "cell_type": "code",
   "execution_count": 7,
   "id": "578bd7cf",
   "metadata": {},
   "outputs": [],
   "source": [
    "# Call the function\n",
    "install_and_load(packages)"
   ]
  },
  {
   "cell_type": "code",
   "execution_count": 8,
   "id": "f9e245e8",
   "metadata": {},
   "outputs": [],
   "source": [
    "# Read the data\n",
    "survey_df = pd.read_csv('/Users/nanditareddy/Desktop/R BOOTCAMP/A4/Survey.csv')\n",
    "sur_int = survey_df.iloc[:, 19:45]  # Adjust the column range accordingly"
   ]
  },
  {
   "cell_type": "code",
   "execution_count": 9,
   "id": "c53dfc9d",
   "metadata": {},
   "outputs": [
    {
     "data": {
      "text/html": [
       "<style>#sk-container-id-1 {color: black;}#sk-container-id-1 pre{padding: 0;}#sk-container-id-1 div.sk-toggleable {background-color: white;}#sk-container-id-1 label.sk-toggleable__label {cursor: pointer;display: block;width: 100%;margin-bottom: 0;padding: 0.3em;box-sizing: border-box;text-align: center;}#sk-container-id-1 label.sk-toggleable__label-arrow:before {content: \"▸\";float: left;margin-right: 0.25em;color: #696969;}#sk-container-id-1 label.sk-toggleable__label-arrow:hover:before {color: black;}#sk-container-id-1 div.sk-estimator:hover label.sk-toggleable__label-arrow:before {color: black;}#sk-container-id-1 div.sk-toggleable__content {max-height: 0;max-width: 0;overflow: hidden;text-align: left;background-color: #f0f8ff;}#sk-container-id-1 div.sk-toggleable__content pre {margin: 0.2em;color: black;border-radius: 0.25em;background-color: #f0f8ff;}#sk-container-id-1 input.sk-toggleable__control:checked~div.sk-toggleable__content {max-height: 200px;max-width: 100%;overflow: auto;}#sk-container-id-1 input.sk-toggleable__control:checked~label.sk-toggleable__label-arrow:before {content: \"▾\";}#sk-container-id-1 div.sk-estimator input.sk-toggleable__control:checked~label.sk-toggleable__label {background-color: #d4ebff;}#sk-container-id-1 div.sk-label input.sk-toggleable__control:checked~label.sk-toggleable__label {background-color: #d4ebff;}#sk-container-id-1 input.sk-hidden--visually {border: 0;clip: rect(1px 1px 1px 1px);clip: rect(1px, 1px, 1px, 1px);height: 1px;margin: -1px;overflow: hidden;padding: 0;position: absolute;width: 1px;}#sk-container-id-1 div.sk-estimator {font-family: monospace;background-color: #f0f8ff;border: 1px dotted black;border-radius: 0.25em;box-sizing: border-box;margin-bottom: 0.5em;}#sk-container-id-1 div.sk-estimator:hover {background-color: #d4ebff;}#sk-container-id-1 div.sk-parallel-item::after {content: \"\";width: 100%;border-bottom: 1px solid gray;flex-grow: 1;}#sk-container-id-1 div.sk-label:hover label.sk-toggleable__label {background-color: #d4ebff;}#sk-container-id-1 div.sk-serial::before {content: \"\";position: absolute;border-left: 1px solid gray;box-sizing: border-box;top: 0;bottom: 0;left: 50%;z-index: 0;}#sk-container-id-1 div.sk-serial {display: flex;flex-direction: column;align-items: center;background-color: white;padding-right: 0.2em;padding-left: 0.2em;position: relative;}#sk-container-id-1 div.sk-item {position: relative;z-index: 1;}#sk-container-id-1 div.sk-parallel {display: flex;align-items: stretch;justify-content: center;background-color: white;position: relative;}#sk-container-id-1 div.sk-item::before, #sk-container-id-1 div.sk-parallel-item::before {content: \"\";position: absolute;border-left: 1px solid gray;box-sizing: border-box;top: 0;bottom: 0;left: 50%;z-index: -1;}#sk-container-id-1 div.sk-parallel-item {display: flex;flex-direction: column;z-index: 1;position: relative;background-color: white;}#sk-container-id-1 div.sk-parallel-item:first-child::after {align-self: flex-end;width: 50%;}#sk-container-id-1 div.sk-parallel-item:last-child::after {align-self: flex-start;width: 50%;}#sk-container-id-1 div.sk-parallel-item:only-child::after {width: 0;}#sk-container-id-1 div.sk-dashed-wrapped {border: 1px dashed gray;margin: 0 0.4em 0.5em 0.4em;box-sizing: border-box;padding-bottom: 0.4em;background-color: white;}#sk-container-id-1 div.sk-label label {font-family: monospace;font-weight: bold;display: inline-block;line-height: 1.2em;}#sk-container-id-1 div.sk-label-container {text-align: center;}#sk-container-id-1 div.sk-container {/* jupyter's `normalize.less` sets `[hidden] { display: none; }` but bootstrap.min.css set `[hidden] { display: none !important; }` so we also need the `!important` here to be able to override the default hidden behavior on the sphinx rendered scikit-learn.org. See: https://github.com/scikit-learn/scikit-learn/issues/21755 */display: inline-block !important;position: relative;}#sk-container-id-1 div.sk-text-repr-fallback {display: none;}</style><div id=\"sk-container-id-1\" class=\"sk-top-container\"><div class=\"sk-text-repr-fallback\"><pre>FactorAnalyzer(n_factors=4, rotation=&#x27;varimax&#x27;, rotation_kwargs={})</pre><b>In a Jupyter environment, please rerun this cell to show the HTML representation or trust the notebook. <br />On GitHub, the HTML representation is unable to render, please try loading this page with nbviewer.org.</b></div><div class=\"sk-container\" hidden><div class=\"sk-item\"><div class=\"sk-estimator sk-toggleable\"><input class=\"sk-toggleable__control sk-hidden--visually\" id=\"sk-estimator-id-1\" type=\"checkbox\" checked><label for=\"sk-estimator-id-1\" class=\"sk-toggleable__label sk-toggleable__label-arrow\">FactorAnalyzer</label><div class=\"sk-toggleable__content\"><pre>FactorAnalyzer(n_factors=4, rotation=&#x27;varimax&#x27;, rotation_kwargs={})</pre></div></div></div></div></div>"
      ],
      "text/plain": [
       "FactorAnalyzer(n_factors=4, rotation='varimax', rotation_kwargs={})"
      ]
     },
     "execution_count": 9,
     "metadata": {},
     "output_type": "execute_result"
    }
   ],
   "source": [
    "# Factor Analysis\n",
    "fa = fa.FactorAnalyzer(n_factors=4, rotation=\"varimax\")\n",
    "fa.fit(sur_int.to_numpy())"
   ]
  },
  {
   "cell_type": "code",
   "execution_count": 10,
   "id": "442777dc",
   "metadata": {},
   "outputs": [
    {
     "name": "stdout",
     "output_type": "stream",
     "text": [
      "[[-0.1578101   0.42809136  0.05879244 -0.13526354]\n",
      " [ 0.07288455  0.07797564 -0.09376015  0.72270596]\n",
      " [ 0.67791473 -0.10906027  0.25599156  0.12315537]\n",
      " [ 0.45294305  0.19306867 -0.14202125  0.09102672]\n",
      " [ 0.56145097  0.05977593 -0.15846106  0.10167805]\n",
      " [ 0.44508347 -0.0324726  -0.02008422  0.46566125]\n",
      " [ 0.40127303  0.65592565 -0.04681206  0.06621178]\n",
      " [ 0.54536401  0.17133538 -0.06944276 -0.17456789]\n",
      " [ 0.77346813 -0.23204538  0.31139215 -0.08601211]\n",
      " [ 0.13600482  0.10476011 -0.0760528  -0.18510778]\n",
      " [ 0.74442307  0.09827161 -0.06279514  0.13271727]\n",
      " [ 0.61456757  0.12385519 -0.10379084  0.25558764]\n",
      " [ 0.83126402  0.04360932 -0.01602556 -0.06757233]\n",
      " [ 0.18089294  0.5781131  -0.0649642   0.09677394]\n",
      " [ 0.08522971 -0.12722078  0.51492481 -0.01476379]\n",
      " [-0.12867754  0.18571431  0.51035204 -0.01479766]\n",
      " [-0.09884298 -0.09829734  0.31043877 -0.06327068]\n",
      " [-0.12075304 -0.08561139  0.88293088  0.28205673]\n",
      " [ 0.41597756  0.4862524  -0.13041834 -0.03370874]\n",
      " [ 0.3030142   0.14591217  0.26406    -0.08696873]\n",
      " [ 0.64708197  0.39365566 -0.18483816 -0.14750422]\n",
      " [ 0.70663537 -0.07753736  0.08586913 -0.32104335]\n",
      " [ 0.09492154  0.01416832  0.36329693 -0.04207299]\n",
      " [ 0.75374486  0.3433831   0.05243772  0.07115761]\n",
      " [ 0.74497866  0.39843937  0.02755836  0.05399376]\n",
      " [ 0.75557128  0.39188084  0.02353685  0.15929653]]\n"
     ]
    }
   ],
   "source": [
    "# Print factor loadings\n",
    "loadings = fa.loadings_\n",
    "print(loadings)\n"
   ]
  },
  {
   "cell_type": "code",
   "execution_count": 11,
   "id": "51a8c7f8",
   "metadata": {},
   "outputs": [
    {
     "data": {
      "image/png": "[encoded data removed]",
      "text/plain": [
       "<Figure size 1000x800 with 2 Axes>"
      ]
     },
     "metadata": {},
     "output_type": "display_data"
    }
   ],
   "source": [
    "# Create a heatmap of the loadings matrix\n",
    "plt.figure(figsize=(10, 8))\n",
    "plt.imshow(loadings, cmap='hot', interpolation='nearest')\n",
    "plt.colorbar()\n",
    "plt.show()"
   ]
  },
  {
   "cell_type": "code",
   "execution_count": 12,
   "id": "746f58d6",
   "metadata": {},
   "outputs": [
    {
     "name": "stdout",
     "output_type": "stream",
     "text": [
      "Communalities:\n",
      "[0.22991901 0.54248724 0.55216144 0.27088882 0.35424869 0.41639754\n",
      " 0.59783387 0.36207395 0.75646117 0.06952091 0.58538011 0.46913098\n",
      " 0.69772449 0.38052256 0.28881475 0.31172589 0.11980771 0.88103354\n",
      " 0.42762395 0.19039921 0.62960249 0.61578793 0.14296564 0.69385639\n",
      " 0.71742192 0.75038791]\n"
     ]
    }
   ],
   "source": [
    "# Print communalities\n",
    "print(\"Communalities:\")\n",
    "print(fa.get_communalities())"
   ]
  },
  {
   "cell_type": "code",
   "execution_count": 13,
   "id": "0e06d3e2",
   "metadata": {},
   "outputs": [
    {
     "name": "stdout",
     "output_type": "stream",
     "text": [
      "Factor Scores:\n",
      "[[-6.28619590e-01  1.85657474e+00 -5.47518973e-01 -8.81439771e-01]\n",
      " [-1.69513919e+00  1.12800571e+00 -5.80307053e-01 -9.38083307e-01]\n",
      " [-1.20280923e+00  5.89699085e-01 -1.39117038e+00 -2.86780840e+00]\n",
      " [ 1.99352992e+00  4.88864505e-02 -2.07936523e+00  2.18544914e-01]\n",
      " [ 4.11314865e-01 -1.26821776e+00 -7.80870914e-01  6.66228146e-02]\n",
      " [-2.11478494e-01  2.03794818e-01 -6.50677370e-01  2.05174956e-01]\n",
      " [ 7.43577361e-01  6.43368416e-01  1.00212149e-01  1.03879006e+00]\n",
      " [-1.91404813e+00  3.03937201e-01 -1.32917326e+00 -2.15077564e-01]\n",
      " [-8.56474135e-01 -2.96866177e-03  2.93861257e-01  9.20160436e-02]\n",
      " [ 2.36520458e-01  5.51241130e-02  3.48090846e-02 -6.03796984e-01]\n",
      " [-4.68064145e-01 -8.66072334e-01 -7.46977456e-02 -6.21582663e-01]\n",
      " [-8.75004555e-01 -1.08807288e+00 -1.13530112e+00  6.56135544e-01]\n",
      " [-1.19487659e+00  8.94305393e-02  4.89637727e-01  9.91715619e-01]\n",
      " [-3.01457371e-01  1.00436678e-01  1.20733927e+00  1.97792394e-01]\n",
      " [-1.00291304e+00  4.94104355e-01 -1.24637874e-01 -2.07152497e-01]\n",
      " [-2.44664333e+00 -1.14035079e-01  1.61004750e-01  5.75188568e-01]\n",
      " [-1.25577856e+00 -3.56172471e-01 -7.15364572e-01  1.04921621e+00]\n",
      " [-1.17254640e+00  1.21161268e+00 -1.83678819e-01  8.19594253e-01]\n",
      " [ 4.04251956e-01  1.29219413e+00 -1.50176124e+00  1.71572856e-01]\n",
      " [ 4.91676564e-01  1.92667010e-01 -2.44581213e+00 -4.37601503e-01]\n",
      " [-1.17254640e+00  1.21161268e+00 -1.83678819e-01  8.19594253e-01]\n",
      " [-1.18430136e-01  6.13930955e-01  1.08967535e+00  1.32810437e+00]\n",
      " [-9.89415007e-01  1.50327654e+00 -2.60459095e-01  9.36551817e-01]\n",
      " [ 5.45913805e-01 -6.12972147e-01  1.19522541e+00  4.73974699e-01]\n",
      " [ 1.60656289e+00  8.48989842e-01  2.09647082e-01  3.46249400e-01]\n",
      " [-4.01168351e-01 -2.52486399e-01 -1.57889373e-01  1.35125027e+00]\n",
      " [-5.70149267e-01 -1.01616215e+00  1.02586721e+00  8.78902252e-01]\n",
      " [ 5.57013471e-02 -5.78557540e-02  5.09148755e-03  6.76539266e-01]\n",
      " [-1.07970188e+00  5.37184228e-01 -4.86901731e-01  1.41408056e+00]\n",
      " [ 8.96814370e-01 -6.47961141e-01 -7.65034544e-01 -7.04074652e-01]\n",
      " [ 8.69607796e-01  5.95486181e-01 -6.38034740e-01  3.78813840e-01]\n",
      " [-6.37345812e-01 -1.10103284e+00  1.22809804e-01 -4.53820684e-02]\n",
      " [-5.84225987e-01  4.19191718e-02  1.27085128e+00 -1.66638861e-01]\n",
      " [ 8.44456933e-01  4.74671342e-01  6.06587887e-01 -4.49510283e-01]\n",
      " [-1.53043472e+00  3.06961682e-01  5.04757605e-01 -2.77263221e-01]\n",
      " [ 2.52217283e-01  8.37519815e-01 -6.55798225e-01 -1.08047719e+00]\n",
      " [-2.65256914e-01 -3.93585862e-01  1.00265474e+00  6.73951596e-01]\n",
      " [ 8.75266328e-01 -1.57998560e+00  1.05827748e-01 -5.01791990e-01]\n",
      " [-5.83336542e-02 -1.24268766e-01  3.12217930e-01  6.25041435e-01]\n",
      " [-1.50415040e-01 -5.71515173e-01  4.42151095e-01 -1.13739769e+00]\n",
      " [-4.15457030e-01 -1.06805866e+00 -3.79121153e-01  4.16298978e-01]\n",
      " [ 5.67742221e-01  8.66194582e-01  1.18757223e+00 -1.73348440e+00]\n",
      " [ 1.48058271e+00  5.83411109e-02 -1.51677349e+00  6.14654514e-01]\n",
      " [ 8.83996235e-04  4.06199385e-01  1.29140543e+00 -5.16368249e-01]\n",
      " [-2.56762689e-01 -1.15793967e+00  1.58791102e+00 -1.52548099e+00]\n",
      " [ 1.44816074e+00  4.44470412e-01  7.83829923e-01 -6.65724774e-01]\n",
      " [ 8.48846868e-02 -2.16546179e+00 -1.80248632e-01  4.93744265e-01]\n",
      " [ 5.33469507e-01 -1.26207189e+00  7.49243487e-02 -7.46248291e-01]\n",
      " [ 2.00085389e+00  1.00509999e+00  1.59107982e+00  1.15336878e+00]\n",
      " [-1.42738751e+00 -2.49549284e+00 -1.05660558e+00 -4.33123042e-01]\n",
      " [-8.65061799e-01  1.96153220e-01 -7.08579630e-01 -1.83360927e+00]\n",
      " [ 1.70501383e+00  4.92152378e-01 -3.76624107e-01  4.57062178e-01]\n",
      " [ 3.96019634e-01  1.81555940e-01  1.77931143e+00  2.73626568e-01]\n",
      " [ 1.46786620e+00  1.05831836e+00 -2.58997475e-01  4.92588786e-01]\n",
      " [ 6.65334952e-01  2.27176735e-01  6.06908941e-01  8.51815106e-01]\n",
      " [ 2.74710679e-01 -1.41357741e+00  6.77218510e-02 -7.67939721e-02]\n",
      " [-1.97347894e-01  1.12002687e-01  1.05482634e+00  2.70223481e-01]\n",
      " [ 1.99352992e+00  4.88864505e-02 -2.07936523e+00  2.18544914e-01]\n",
      " [ 1.12932121e+00  9.58404392e-01  1.68152591e+00  5.00130444e-01]\n",
      " [ 1.93912355e-01 -5.05354962e-03  1.28422048e+00 -5.57090581e-02]\n",
      " [ 4.81064693e-01  1.00562156e+00 -5.75465494e-01 -1.29708778e+00]\n",
      " [ 8.71967795e-01 -8.31499556e-01 -3.84023271e-01 -4.96746400e-01]\n",
      " [ 8.93449761e-01 -1.27081951e+00  3.39359981e-01 -6.69371777e-01]\n",
      " [ 2.08727250e-01  3.38523706e-01 -2.09368061e+00 -3.60126621e-01]\n",
      " [-7.24940297e-01  6.18001920e-01  1.56431694e-01  7.05743991e-01]\n",
      " [-4.73622246e-01 -3.85109336e-01  2.20529737e+00 -4.48477765e-01]\n",
      " [ 6.28468758e-01 -1.07895383e+00  7.57875325e-01 -1.42062850e+00]\n",
      " [-4.15457030e-01 -1.06805866e+00 -3.79121153e-01  4.16298978e-01]\n",
      " [-1.69905901e-01 -4.61872625e-01 -4.66795113e-01  1.50323521e+00]\n",
      " [ 4.75841677e-01  1.51884315e+00  5.13103178e-01 -9.38694647e-01]]\n"
     ]
    }
   ],
   "source": [
    "# Print factor scores\n",
    "print(\"Factor Scores:\")\n",
    "print(fa.transform(sur_int.to_numpy()))"
   ]
  },
  {
   "cell_type": "code",
   "execution_count": null,
   "id": "066b7a74",
   "metadata": {},
   "outputs": [],
   "source": []
  }
 ],
 "metadata": {
  "kernelspec": {
   "display_name": "Python 3 (ipykernel)",
   "language": "python",
   "name": "python3"
  },
  "language_info": {
   "codemirror_mode": {
    "name": "ipython",
    "version": 3
   },
   "file_extension": ".py",
   "mimetype": "text/x-python",
   "name": "python",
   "nbconvert_exporter": "python",
   "pygments_lexer": "ipython3",
   "version": "3.11.5"
  }
 },
 "nbformat": 4,
 "nbformat_minor": 5
}
